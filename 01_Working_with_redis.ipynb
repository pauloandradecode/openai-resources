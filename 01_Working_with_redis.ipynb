{
 "cells": [
  {
   "attachments": {},
   "cell_type": "markdown",
   "metadata": {},
   "source": [
    "Instalación de librerias de terceros"
   ]
  },
  {
   "cell_type": "code",
   "execution_count": 1,
   "metadata": {},
   "outputs": [
    {
     "name": "stdout",
     "output_type": "stream",
     "text": [
      "Note: you may need to restart the kernel to use updated packages.\n"
     ]
    }
   ],
   "source": [
    "%pip install redis-server redis -q"
   ]
  },
  {
   "cell_type": "code",
   "execution_count": 2,
   "metadata": {},
   "outputs": [],
   "source": [
    "# Importamos las libreria\n",
    "import subprocess\n",
    "import redis_server\n",
    "import redis"
   ]
  },
  {
   "cell_type": "code",
   "execution_count": 3,
   "metadata": {},
   "outputs": [
    {
     "data": {
      "text/plain": [
       "<Popen: returncode: None args: ['/Library/Frameworks/Python.framework/Versio...>"
      ]
     },
     "execution_count": 3,
     "metadata": {},
     "output_type": "execute_result"
    }
   ],
   "source": [
    "# Inicializamos el servidor de redis (Google colab)\n",
    "subprocess.Popen([redis_server.REDIS_SERVER_PATH])"
   ]
  },
  {
   "cell_type": "code",
   "execution_count": 4,
   "metadata": {},
   "outputs": [
    {
     "name": "stdout",
     "output_type": "stream",
     "text": [
      "67452:C 19 Jun 2023 14:58:30.467 # oO0OoO0OoO0Oo Redis is starting oO0OoO0OoO0Oo\n",
      "67452:C 19 Jun 2023 14:58:30.467 # Redis version=6.0.9, bits=64, commit=00000000, modified=0, pid=67452, just started\n",
      "67452:C 19 Jun 2023 14:58:30.467 # Warning: no config file specified, using the default config. In order to specify a config file use /Library/Frameworks/Python.framework/Versions/3.11/lib/python3.11/site-packages/redis_server/bin/redis-server /path/to/redis.conf\n",
      "67452:M 19 Jun 2023 14:58:30.473 * Running mode=standalone, port=6379.\n",
      "67452:M 19 Jun 2023 14:58:30.473 # Server initialized\n",
      "67452:M 19 Jun 2023 14:58:30.474 * Loading RDB produced by version 6.0.9\n",
      "67452:M 19 Jun 2023 14:58:30.474 * RDB age 53892 seconds\n",
      "67452:M 19 Jun 2023 14:58:30.474 * RDB memory usage when created 1.11 Mb\n",
      "67452:M 19 Jun 2023 14:58:30.475 * DB loaded from disk: 0.001 seconds\n",
      "67452:M 19 Jun 2023 14:58:30.475 * Ready to accept connections\n"
     ]
    },
    {
     "data": {
      "text/plain": [
       "True"
      ]
     },
     "execution_count": 4,
     "metadata": {},
     "output_type": "execute_result"
    }
   ],
   "source": [
    "# Enviamos un ping para validar que el servidor esta corriendo\n",
    "HOST = 'localhost'\n",
    "PORT = 6379\n",
    "client = redis.Redis(host = HOST, port=PORT)\n",
    "\n",
    "# Si retorna un True, el servidor esta corriendo\n",
    "client.ping()"
   ]
  },
  {
   "cell_type": "code",
   "execution_count": 5,
   "metadata": {},
   "outputs": [
    {
     "data": {
      "text/plain": [
       "b'bar'"
      ]
     },
     "execution_count": 5,
     "metadata": {},
     "output_type": "execute_result"
    }
   ],
   "source": [
    "# Realizamos pruebas para validar el funcionamiento de redis\n",
    "client.set('foo', 'bar')\n",
    "client.get('foo')"
   ]
  }
 ],
 "metadata": {
  "kernelspec": {
   "display_name": "Python 3",
   "language": "python",
   "name": "python3"
  },
  "language_info": {
   "codemirror_mode": {
    "name": "ipython",
    "version": 3
   },
   "file_extension": ".py",
   "mimetype": "text/x-python",
   "name": "python",
   "nbconvert_exporter": "python",
   "pygments_lexer": "ipython3",
   "version": "3.11.3"
  },
  "orig_nbformat": 4
 },
 "nbformat": 4,
 "nbformat_minor": 2
}
