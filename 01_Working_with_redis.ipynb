{
 "cells": [
  {
   "attachments": {},
   "cell_type": "markdown",
   "metadata": {},
   "source": [
    "Instalación de librerias de terceros"
   ]
  },
  {
   "cell_type": "code",
   "execution_count": 8,
   "metadata": {},
   "outputs": [
    {
     "name": "stdout",
     "output_type": "stream",
     "text": [
      "Note: you may need to restart the kernel to use updated packages.\n"
     ]
    }
   ],
   "source": [
    "%pip install redis-server redis -q"
   ]
  },
  {
   "cell_type": "code",
   "execution_count": 9,
   "metadata": {},
   "outputs": [],
   "source": [
    "# Importamos las libreria\n",
    "import subprocess\n",
    "import redis_server\n",
    "import redis"
   ]
  },
  {
   "cell_type": "code",
   "execution_count": 10,
   "metadata": {},
   "outputs": [
    {
     "data": {
      "text/plain": [
       "<Popen: returncode: None args: ['/Library/Frameworks/Python.framework/Versio...>"
      ]
     },
     "execution_count": 10,
     "metadata": {},
     "output_type": "execute_result"
    },
    {
     "name": "stdout",
     "output_type": "stream",
     "text": [
      "63916:C 18 Jun 2023 14:07:36.007 # oO0OoO0OoO0Oo Redis is starting oO0OoO0OoO0Oo\n",
      "63916:C 18 Jun 2023 14:07:36.007 # Redis version=6.0.9, bits=64, commit=00000000, modified=0, pid=63916, just started\n",
      "63916:C 18 Jun 2023 14:07:36.007 # Warning: no config file specified, using the default config. In order to specify a config file use /Library/Frameworks/Python.framework/Versions/3.11/lib/python3.11/site-packages/redis_server/bin/redis-server /path/to/redis.conf\n",
      "63916:M 18 Jun 2023 14:07:36.010 # Could not create server TCP listening socket *:6379: bind: Address already in use\n"
     ]
    }
   ],
   "source": [
    "# Inicializamos el servidor de redis (Google colab)\n",
    "subprocess.Popen([redis_server.REDIS_SERVER_PATH])"
   ]
  },
  {
   "cell_type": "code",
   "execution_count": 11,
   "metadata": {},
   "outputs": [
    {
     "data": {
      "text/plain": [
       "True"
      ]
     },
     "execution_count": 11,
     "metadata": {},
     "output_type": "execute_result"
    }
   ],
   "source": [
    "# Enviamos un ping para validar que el servidor esta corriendo\n",
    "HOST = 'localhost'\n",
    "PORT = 6379\n",
    "client = redis.Redis(host = HOST, port=PORT)\n",
    "\n",
    "# Si retorna un True, el servidor esta corriendo\n",
    "client.ping()"
   ]
  },
  {
   "cell_type": "code",
   "execution_count": 12,
   "metadata": {},
   "outputs": [
    {
     "data": {
      "text/plain": [
       "b'bar'"
      ]
     },
     "execution_count": 12,
     "metadata": {},
     "output_type": "execute_result"
    },
    {
     "name": "stdout",
     "output_type": "stream",
     "text": [
      "63898:M 18 Jun 2023 16:30:47.143 * 1 changes in 3600 seconds. Saving...\n",
      "63898:M 18 Jun 2023 16:30:47.153 * Background saving started by pid 64167\n",
      "64167:C 18 Jun 2023 16:30:47.933 * DB saved on disk\n",
      "63898:M 18 Jun 2023 16:30:47.967 * Background saving terminated with success\n"
     ]
    }
   ],
   "source": [
    "# Realizamos pruebas para validar el funcionamiento de redis\n",
    "client.set('foo', 'bar')\n",
    "client.get('foo')"
   ]
  }
 ],
 "metadata": {
  "kernelspec": {
   "display_name": "Python 3",
   "language": "python",
   "name": "python3"
  },
  "language_info": {
   "codemirror_mode": {
    "name": "ipython",
    "version": 3
   },
   "file_extension": ".py",
   "mimetype": "text/x-python",
   "name": "python",
   "nbconvert_exporter": "python",
   "pygments_lexer": "ipython3",
   "version": "3.11.3"
  },
  "orig_nbformat": 4
 },
 "nbformat": 4,
 "nbformat_minor": 2
}
