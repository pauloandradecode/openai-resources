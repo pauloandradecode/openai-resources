{
 "cells": [
  {
   "cell_type": "code",
   "execution_count": 53,
   "metadata": {},
   "outputs": [
    {
     "name": "stdout",
     "output_type": "stream",
     "text": [
      "Note: you may need to restart the kernel to use updated packages.\n"
     ]
    }
   ],
   "source": [
    "# Instalamos librerias externas\n",
    "%pip install redis-server redis numpy openai\\[datalib\\] -q"
   ]
  },
  {
   "cell_type": "code",
   "execution_count": 54,
   "metadata": {},
   "outputs": [],
   "source": [
    "# Importamos librerias\n",
    "import redis\n",
    "import openai\n",
    "import getpass\n",
    "import time\n",
    "import numpy as np"
   ]
  },
  {
   "cell_type": "code",
   "execution_count": 31,
   "metadata": {},
   "outputs": [],
   "source": [
    "# Varianles globales\n",
    "openai.api_key = getpass.getpass()\n",
    "model = 'text-embedding-ada-002'"
   ]
  },
  {
   "cell_type": "code",
   "execution_count": 55,
   "metadata": {},
   "outputs": [],
   "source": [
    "# creamos un cliente de redis\n",
    "class RedisClient:\n",
    "    def __init__(self, host='localhost', port=6379):\n",
    "        self.client = redis.Redis(host=host, port=port)\n",
    "\n",
    "    def set(self, key, value):\n",
    "        try:\n",
    "            return self.client.set(key, value)\n",
    "        except ConnectionError:\n",
    "            print(\"Connection Error\")\n",
    "\n",
    "    def get(self, key):\n",
    "        try:\n",
    "            return self.client.get(key)\n",
    "        except ConnectionError:\n",
    "            print(\"Connection Error\")\n",
    "\n",
    "    def delete(self, key):\n",
    "        try:\n",
    "            return self.client.delete(key)\n",
    "        except ConnectionError:\n",
    "            print(\"Connection Error\")\n",
    "\n",
    "    def keys(self, pattern='*'):\n",
    "        try:\n",
    "            return self.client.keys(pattern)\n",
    "        except ConnectionError:\n",
    "            print(\"Connection Error\")\n",
    "\n",
    "    \n",
    "    def exists(self, key):\n",
    "        try:\n",
    "            return self.client.exists(key)\n",
    "        except ConnectionError:\n",
    "            print(\"Connection Error\")\n",
    "            \n",
    "\n",
    "    def flushall(self):\n",
    "        try:\n",
    "            return self.client.flushall()\n",
    "        except ConnectionError:\n",
    "            print(\"Connection Error\")\n",
    "\n",
    "    def flushdb(self):\n",
    "        try:\n",
    "            return self.client.flushdb()\n",
    "        except ConnectionError:\n",
    "            print(\"Connection Error\")"
   ]
  },
  {
   "cell_type": "code",
   "execution_count": 61,
   "metadata": {},
   "outputs": [],
   "source": [
    "# retrieve the embedding from the redis cache\n",
    "# if it doesn't exist, create it and store it in the cache\n",
    "# then return it\n",
    "\n",
    "def get_embedding(text):\n",
    "    # create a redis client\n",
    "    redis_client = RedisClient()\n",
    "\n",
    "    # get the embedding from the cache\n",
    "    embeddings = redis_client.get(text)\n",
    "\n",
    "    # if the embedding doesn't exist in the cache\n",
    "    if embeddings is None:\n",
    "        # create the embedding\n",
    "        time.sleep(1)\n",
    "        print('Creating embedding for: ' + text)\n",
    "        \n",
    "        response = openai.Embedding.create(\n",
    "            input = text,\n",
    "            model = model\n",
    "        )\n",
    "\n",
    "        print(response['data'][0]['embedding'])\n",
    "        embeddings = response['data'][0]['embedding']\n",
    "        \n",
    "        # store the embedding in the cache\n",
    "        redis_client.set(text, embeddings)\n",
    "    # return the embedding\n",
    "    return embeddings"
   ]
  },
  {
   "cell_type": "code",
   "execution_count": 62,
   "metadata": {},
   "outputs": [
    {
     "name": "stdout",
     "output_type": "stream",
     "text": [
      "Creating embedding for: This is a test\n"
     ]
    },
    {
     "ename": "MissingDependencyError",
     "evalue": "\n\nOpenAI error:\n\n    missing `numpy`\n\nThis feature requires additional dependencies:\n\n    $ pip install openai[datalib]\n\n",
     "output_type": "error",
     "traceback": [
      "\u001b[0;31m---------------------------------------------------------------------------\u001b[0m",
      "\u001b[0;31mMissingDependencyError\u001b[0m                    Traceback (most recent call last)",
      "Cell \u001b[0;32mIn[62], line 2\u001b[0m\n\u001b[1;32m      1\u001b[0m \u001b[39m# Ejemplo de funcionamiento\u001b[39;00m\n\u001b[0;32m----> 2\u001b[0m get_embedding(\u001b[39m\"\u001b[39;49m\u001b[39mThis is a test\u001b[39;49m\u001b[39m\"\u001b[39;49m)\n\u001b[1;32m      4\u001b[0m \u001b[39m# openai.Engine.list() \u001b[39;00m\n",
      "Cell \u001b[0;32mIn[61], line 18\u001b[0m, in \u001b[0;36mget_embedding\u001b[0;34m(text)\u001b[0m\n\u001b[1;32m     15\u001b[0m time\u001b[39m.\u001b[39msleep(\u001b[39m1\u001b[39m)\n\u001b[1;32m     16\u001b[0m \u001b[39mprint\u001b[39m(\u001b[39m'\u001b[39m\u001b[39mCreating embedding for: \u001b[39m\u001b[39m'\u001b[39m \u001b[39m+\u001b[39m text)\n\u001b[0;32m---> 18\u001b[0m response \u001b[39m=\u001b[39m openai\u001b[39m.\u001b[39;49mEmbedding\u001b[39m.\u001b[39;49mcreate(\n\u001b[1;32m     19\u001b[0m     \u001b[39minput\u001b[39;49m \u001b[39m=\u001b[39;49m text,\n\u001b[1;32m     20\u001b[0m     model \u001b[39m=\u001b[39;49m model\n\u001b[1;32m     21\u001b[0m )\n\u001b[1;32m     23\u001b[0m \u001b[39mprint\u001b[39m(response[\u001b[39m'\u001b[39m\u001b[39mdata\u001b[39m\u001b[39m'\u001b[39m][\u001b[39m0\u001b[39m][\u001b[39m'\u001b[39m\u001b[39membedding\u001b[39m\u001b[39m'\u001b[39m])\n\u001b[1;32m     24\u001b[0m embeddings \u001b[39m=\u001b[39m response[\u001b[39m'\u001b[39m\u001b[39mdata\u001b[39m\u001b[39m'\u001b[39m][\u001b[39m0\u001b[39m][\u001b[39m'\u001b[39m\u001b[39membedding\u001b[39m\u001b[39m'\u001b[39m]\n",
      "File \u001b[0;32m/Library/Frameworks/Python.framework/Versions/3.11/lib/python3.11/site-packages/openai/api_resources/embedding.py:42\u001b[0m, in \u001b[0;36mEmbedding.create\u001b[0;34m(cls, *args, **kwargs)\u001b[0m\n\u001b[1;32m     38\u001b[0m     \u001b[39mfor\u001b[39;00m data \u001b[39min\u001b[39;00m response\u001b[39m.\u001b[39mdata:\n\u001b[1;32m     39\u001b[0m \n\u001b[1;32m     40\u001b[0m         \u001b[39m# If an engine isn't using this optimization, don't do anything\u001b[39;00m\n\u001b[1;32m     41\u001b[0m         \u001b[39mif\u001b[39;00m \u001b[39mtype\u001b[39m(data[\u001b[39m\"\u001b[39m\u001b[39membedding\u001b[39m\u001b[39m\"\u001b[39m]) \u001b[39m==\u001b[39m \u001b[39mstr\u001b[39m:\n\u001b[0;32m---> 42\u001b[0m             assert_has_numpy()\n\u001b[1;32m     43\u001b[0m             data[\u001b[39m\"\u001b[39m\u001b[39membedding\u001b[39m\u001b[39m\"\u001b[39m] \u001b[39m=\u001b[39m np\u001b[39m.\u001b[39mfrombuffer(\n\u001b[1;32m     44\u001b[0m                 base64\u001b[39m.\u001b[39mb64decode(data[\u001b[39m\"\u001b[39m\u001b[39membedding\u001b[39m\u001b[39m\"\u001b[39m]), dtype\u001b[39m=\u001b[39m\u001b[39m\"\u001b[39m\u001b[39mfloat32\u001b[39m\u001b[39m\"\u001b[39m\n\u001b[1;32m     45\u001b[0m             )\u001b[39m.\u001b[39mtolist()\n\u001b[1;32m     47\u001b[0m \u001b[39mreturn\u001b[39;00m response\n",
      "File \u001b[0;32m/Library/Frameworks/Python.framework/Versions/3.11/lib/python3.11/site-packages/openai/datalib/numpy_helper.py:15\u001b[0m, in \u001b[0;36massert_has_numpy\u001b[0;34m()\u001b[0m\n\u001b[1;32m     13\u001b[0m \u001b[39mdef\u001b[39;00m \u001b[39massert_has_numpy\u001b[39m():\n\u001b[1;32m     14\u001b[0m     \u001b[39mif\u001b[39;00m \u001b[39mnot\u001b[39;00m HAS_NUMPY:\n\u001b[0;32m---> 15\u001b[0m         \u001b[39mraise\u001b[39;00m MissingDependencyError(NUMPY_INSTRUCTIONS)\n",
      "\u001b[0;31mMissingDependencyError\u001b[0m: \n\nOpenAI error:\n\n    missing `numpy`\n\nThis feature requires additional dependencies:\n\n    $ pip install openai[datalib]\n\n"
     ]
    }
   ],
   "source": [
    "# Ejemplo de funcionamiento\n",
    "get_embedding(\"This is a test\")\n",
    "\n",
    "# openai.Engine.list() "
   ]
  }
 ],
 "metadata": {
  "kernelspec": {
   "display_name": "Python 3",
   "language": "python",
   "name": "python3"
  },
  "language_info": {
   "codemirror_mode": {
    "name": "ipython",
    "version": 3
   },
   "file_extension": ".py",
   "mimetype": "text/x-python",
   "name": "python",
   "nbconvert_exporter": "python",
   "pygments_lexer": "ipython3",
   "version": "3.11.3"
  },
  "orig_nbformat": 4
 },
 "nbformat": 4,
 "nbformat_minor": 2
}
